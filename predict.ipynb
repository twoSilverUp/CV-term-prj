{
  "cells": [
    {
      "cell_type": "markdown",
      "metadata": {
        "id": "fwOLPXugfrd3"
      },
      "source": [
        "# Computer Vision Project\n",
        "## Team 1\n",
        "  - AHyun Ji\n",
        "  - Eunsang Lee\n",
        "  - Song Yunjin\n"
      ]
    },
    {
      "cell_type": "code",
      "execution_count": null,
      "metadata": {
        "id": "M_gExMSfpKGG"
      },
      "outputs": [],
      "source": [
        "# 라이브러리 import\n",
        "import os\n",
        "import numpy as np\n",
        "import random\n",
        "import matplotlib.pyplot as plt\n",
        "import scipy.io as sio\n",
        "\n",
        "from PIL import Image\n",
        "from skimage.util import img_as_float\n",
        "from skimage.color import rgb2gray\n",
        "from skimage.io import imread, imsave\n",
        "from scipy.io import loadmat\n",
        "from tqdm import tqdm"
      ]
    },
    {
      "cell_type": "code",
      "execution_count": null,
      "metadata": {
        "colab": {
          "base_uri": "https://localhost:8080/"
        },
        "id": "WPRwmhrmpNc-",
        "outputId": "0e9d2ded-821d-493e-9091-761bfd621125"
      },
      "outputs": [
        {
          "output_type": "stream",
          "name": "stdout",
          "text": [
            "--2024-12-07 18:11:11--  https://github.com/twoSilverUp/CV-term-prj/archive/refs/heads/main.zip\n",
            "Resolving github.com (github.com)... 140.82.113.3\n",
            "Connecting to github.com (github.com)|140.82.113.3|:443... connected.\n",
            "HTTP request sent, awaiting response... 302 Found\n",
            "Location: https://codeload.github.com/twoSilverUp/CV-term-prj/zip/refs/heads/main [following]\n",
            "--2024-12-07 18:11:11--  https://codeload.github.com/twoSilverUp/CV-term-prj/zip/refs/heads/main\n",
            "Resolving codeload.github.com (codeload.github.com)... 140.82.114.9\n",
            "Connecting to codeload.github.com (codeload.github.com)|140.82.114.9|:443... connected.\n",
            "HTTP request sent, awaiting response... 200 OK\n",
            "Length: unspecified [application/zip]\n",
            "Saving to: ‘CV-term-prj.zip’\n",
            "\n",
            "CV-term-prj.zip         [  <=>               ]  10.25M  29.8MB/s    in 0.3s    \n",
            "\n",
            "2024-12-07 18:11:12 (29.8 MB/s) - ‘CV-term-prj.zip’ saved [10749694]\n",
            "\n"
          ]
        }
      ],
      "source": [
        "# 이미지 불러오기, 수정\n",
        "!wget -O CV-term-prj.zip https://github.com/twoSilverUp/CV-term-prj/archive/refs/heads/main.zip\n",
        "\n",
        "import zipfile\n",
        "with zipfile.ZipFile(\"CV-term-prj.zip\", 'r') as zip_ref:\n",
        "    zip_ref.extractall(\"CV-term-prj\")\n",
        "\n",
        "with zipfile.ZipFile(\"CV-term-prj/CV-term-prj-main/train.zip\", 'r') as zip_ref:\n",
        "    zip_ref.extractall(\"project_data/\")\n",
        "\n",
        "with zipfile.ZipFile(\"CV-term-prj/CV-term-prj-main/test.zip\", 'r') as zip_ref:\n",
        "    zip_ref.extractall(\"project_data/\")"
      ]
    },
    {
      "cell_type": "markdown",
      "metadata": {
        "id": "T_U5UseXMwpK"
      },
      "source": [
        "## Create npy file"
      ]
    },
    {
      "cell_type": "code",
      "execution_count": null,
      "metadata": {
        "id": "FGACV2nXMzkH"
      },
      "outputs": [],
      "source": [
        "dir_path = '/content/project_data/test'\n",
        "jpg_files = [file for file in os.listdir(dir_path) if file.endswith('.jpg')]"
      ]
    },
    {
      "cell_type": "code",
      "execution_count": null,
      "metadata": {
        "id": "4LzPUFIcvmVG"
      },
      "outputs": [],
      "source": [
        "save_dir_path = '/content/save'\n",
        "os.makedirs(save_dir_path, exist_ok=True)"
      ]
    },
    {
      "cell_type": "markdown",
      "source": [
        "### edge detection function"
      ],
      "metadata": {
        "id": "ykFCb306J2mE"
      }
    },
    {
      "cell_type": "code",
      "source": [
        "import cv2\n",
        "\n",
        "def make_image(image_path):\n",
        "\n",
        "    image = cv2.imread(image_path)\n",
        "\n",
        "    # image preprocessing\n",
        "    alpha1 = - 0.1\n",
        "\n",
        "    image = np.clip((1 + alpha1) * image - 128 * alpha1, 0, 255).astype(np.uint8)\n",
        "    image = cv2.GaussianBlur(image, (5, 5), 0)\n",
        "\n",
        "    # sobel\n",
        "    dx = cv2.Sobel(image, cv2.CV_64F, 1, 0, ksize=3)\n",
        "    dy = cv2.Sobel(image, cv2.CV_64F, 0, 1, ksize=3)\n",
        "    sobel_combined = cv2.magnitude(dx, dy)\n",
        "    sobel_combined = np.clip(sobel_combined, 0, 255).astype(np.uint8)\n",
        "\n",
        "\n",
        "    # binarization\n",
        "    median_ = np.median(sobel_combined)\n",
        "    l = int(min(median_ + 100, 180))\n",
        "\n",
        "    _, binary_edges = cv2.threshold(sobel_combined, l, 255, cv2.THRESH_BINARY)\n",
        "\n",
        "    binary_edges = cv2.cvtColor(binary_edges, cv2.COLOR_BGR2GRAY)\n",
        "\n",
        "    # connected components filtering\n",
        "    num_labels, labels, stats, centroids = cv2.connectedComponentsWithStats(binary_edges, connectivity=8)\n",
        "    min_area = 20\n",
        "\n",
        "    for i in range(1, num_labels):\n",
        "        if stats[i, cv2.CC_STAT_AREA] < min_area:\n",
        "            binary_edges[labels == i] = 0\n",
        "\n",
        "    # window filtering\n",
        "    brightness_threshold = 200\n",
        "    window_size = 31\n",
        "    half_window = window_size // 2\n",
        "\n",
        "    not_boundary = []\n",
        "    for i in range(binary_edges.shape[0]):\n",
        "        for j in range(binary_edges.shape[1]):\n",
        "            x_start = max(i - half_window, 0)\n",
        "            x_end = min(i + half_window + 1, binary_edges.shape[0])\n",
        "            y_start = max(j - half_window, 0)\n",
        "            y_end = min(j + half_window + 1, binary_edges.shape[1])\n",
        "\n",
        "            window = binary_edges[x_start:x_end, y_start:y_end]\n",
        "            num_bright_neighbors = np.sum(window >= brightness_threshold)\n",
        "\n",
        "            if num_bright_neighbors > window_size * window_size // 5:\n",
        "                not_boundary.append((i, j))\n",
        "\n",
        "    for i, j in not_boundary:\n",
        "          binary_edges[i, j] = 0\n",
        "\n",
        "    # connected components filtering\n",
        "    num_labels, labels, stats, centroids = cv2.connectedComponentsWithStats(binary_edges, connectivity=8)\n",
        "    min_area = 50\n",
        "\n",
        "    for i in range(1, num_labels):\n",
        "        if stats[i, cv2.CC_STAT_AREA] < min_area:\n",
        "            binary_edges[labels == i] = 0\n",
        "\n",
        "    # Gaussian blur\n",
        "    binary_edges = cv2.GaussianBlur(binary_edges, (11, 11), 7)\n",
        "\n",
        "    # cv2_imshow(binary_edges)\n",
        "    # cv2.waitKey(0)\n",
        "    # cv2.destroyAllWindows()\n",
        "\n",
        "    return binary_edges"
      ],
      "metadata": {
        "id": "Z8dZutCbvcrF"
      },
      "execution_count": null,
      "outputs": []
    },
    {
      "cell_type": "code",
      "execution_count": null,
      "metadata": {
        "id": "zsZyKVIEMznH"
      },
      "outputs": [],
      "source": [
        "for jpg_file in jpg_files:\n",
        "    image_path = os.path.join(dir_path, jpg_file)\n",
        "    file_name = os.path.splitext(jpg_file)[0]\n",
        "\n",
        "    output = make_image(image_path)\n",
        "\n",
        "    save_path = os.path.join(save_dir_path, f\"{file_name}.jpg\")\n",
        "    cv2.imwrite(save_path, output)"
      ]
    },
    {
      "cell_type": "code",
      "execution_count": null,
      "metadata": {
        "id": "ST3czqi0Mzpl",
        "colab": {
          "base_uri": "https://localhost:8080/"
        },
        "outputId": "2e973878-0390-4d31-84b1-7f5c8ab58391"
      },
      "outputs": [
        {
          "output_type": "stream",
          "name": "stdout",
          "text": [
            "/content/predictions.npy\n"
          ]
        }
      ],
      "source": [
        "save_path = \"/content/save\"  # image path\n",
        "npy_path = \"/content/predictions.npy\"  # npy path\n",
        "\n",
        "\n",
        "image_files = [f for f in os.listdir(save_path) if f.endswith(('.png', '.jpg', '.jpeg'))]\n",
        "\n",
        "image_dict = {}\n",
        "\n",
        "for file in image_files:\n",
        "    img_path = os.path.join(save_path, file)\n",
        "    img = Image.open(img_path)\n",
        "    img_array = np.array(img, dtype=np.float32)\n",
        "\n",
        "\n",
        "    key = os.path.splitext(file)[0]\n",
        "    image_dict[key] = img_array\n",
        "\n",
        "np.save(npy_path, image_dict)\n",
        "\n",
        "print(npy_path)"
      ]
    },
    {
      "cell_type": "code",
      "source": [],
      "metadata": {
        "id": "GVomSPBUTUG2"
      },
      "execution_count": null,
      "outputs": []
    }
  ],
  "metadata": {
    "colab": {
      "provenance": [],
      "toc_visible": true
    },
    "kernelspec": {
      "display_name": "Python 3",
      "name": "python3"
    },
    "language_info": {
      "name": "python"
    }
  },
  "nbformat": 4,
  "nbformat_minor": 0
}